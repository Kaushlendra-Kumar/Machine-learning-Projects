{
 "cells": [
  {
   "cell_type": "code",
   "execution_count": 17,
   "metadata": {},
   "outputs": [],
   "source": [
    "import tensorflow as tf\n",
    "import os"
   ]
  },
  {
   "cell_type": "code",
   "execution_count": 18,
   "metadata": {},
   "outputs": [],
   "source": [
    "base=r'C:\\Users\\shive\\OneDrive\\Desktop\\DAT'\n",
    "train_dir=os.path.join(base,'rps')\n",
    "test_dir=os.path.join(base,'rps-test')\n",
    "train_paper_dir=os.path.join(train_dir,'paper')\n",
    "train_rock_dir=os.path.join(train_dir,'rock')\n",
    "train_scissors_dir=os.path.join(train_dir,'scissors')\n",
    "test_paper_dir=os.path.join(test_dir,'paper')\n",
    "test_rock_dir=os.path.join(test_dir,'rock')\n",
    "test_scissors_dir=os.path.join(test_dir,'scissors')"
   ]
  },
  {
   "cell_type": "code",
   "execution_count": 19,
   "metadata": {},
   "outputs": [],
   "source": [
    "model=tf.keras.models.Sequential([\n",
    "    tf.keras.layers.Conv2D(64,(3,3),activation='relu',input_shape=(150,150,3)),\n",
    "    tf.keras.layers.MaxPooling2D(2,2),\n",
    "    \n",
    "    tf.keras.layers.Conv2D(64,(3,3),activation='relu'),\n",
    "    tf.keras.layers.MaxPooling2D(2,2),\n",
    "    \n",
    "    tf.keras.layers.Conv2D(128,(3,3),activation='relu'),\n",
    "    tf.keras.layers.MaxPooling2D(2,2),\n",
    "    \n",
    "    tf.keras.layers.Conv2D(128,(3,3),activation='relu'),\n",
    "    tf.keras.layers.MaxPooling2D(2,2),\n",
    "    \n",
    "    \n",
    "    tf.keras.layers.Flatten(),\n",
    "    tf.keras.layers.Dropout(0.5),\n",
    "    tf.keras.layers.Dense(512,activation='relu'),\n",
    "    \n",
    "    tf.keras.layers.Dense(3,activation='softmax')\n",
    "    \n",
    "    \n",
    "])"
   ]
  },
  {
   "cell_type": "code",
   "execution_count": 20,
   "metadata": {},
   "outputs": [
    {
     "name": "stdout",
     "output_type": "stream",
     "text": [
      "Model: \"sequential_1\"\n",
      "_________________________________________________________________\n",
      "Layer (type)                 Output Shape              Param #   \n",
      "=================================================================\n",
      "conv2d_4 (Conv2D)            (None, 148, 148, 64)      1792      \n",
      "_________________________________________________________________\n",
      "max_pooling2d_4 (MaxPooling2 (None, 74, 74, 64)        0         \n",
      "_________________________________________________________________\n",
      "conv2d_5 (Conv2D)            (None, 72, 72, 64)        36928     \n",
      "_________________________________________________________________\n",
      "max_pooling2d_5 (MaxPooling2 (None, 36, 36, 64)        0         \n",
      "_________________________________________________________________\n",
      "conv2d_6 (Conv2D)            (None, 34, 34, 128)       73856     \n",
      "_________________________________________________________________\n",
      "max_pooling2d_6 (MaxPooling2 (None, 17, 17, 128)       0         \n",
      "_________________________________________________________________\n",
      "conv2d_7 (Conv2D)            (None, 15, 15, 128)       147584    \n",
      "_________________________________________________________________\n",
      "max_pooling2d_7 (MaxPooling2 (None, 7, 7, 128)         0         \n",
      "_________________________________________________________________\n",
      "flatten_1 (Flatten)          (None, 6272)              0         \n",
      "_________________________________________________________________\n",
      "dropout_1 (Dropout)          (None, 6272)              0         \n",
      "_________________________________________________________________\n",
      "dense_2 (Dense)              (None, 512)               3211776   \n",
      "_________________________________________________________________\n",
      "dense_3 (Dense)              (None, 3)                 1539      \n",
      "=================================================================\n",
      "Total params: 3,473,475\n",
      "Trainable params: 3,473,475\n",
      "Non-trainable params: 0\n",
      "_________________________________________________________________\n"
     ]
    }
   ],
   "source": [
    "model.summary()"
   ]
  },
  {
   "cell_type": "code",
   "execution_count": 21,
   "metadata": {},
   "outputs": [],
   "source": [
    "from tensorflow.keras.optimizers import RMSprop\n",
    "model.compile(loss='categorical_crossentropy',optimizer='adam',metrics=['accuracy'])"
   ]
  },
  {
   "cell_type": "code",
   "execution_count": 22,
   "metadata": {},
   "outputs": [
    {
     "name": "stdout",
     "output_type": "stream",
     "text": [
      "Found 2520 images belonging to 3 classes.\n",
      "Found 372 images belonging to 3 classes.\n"
     ]
    }
   ],
   "source": [
    "from tensorflow.keras.preprocessing.image import ImageDataGenerator\n",
    "\n",
    "train_datagen=ImageDataGenerator(rescale=1.0/255,\n",
    "                                rotation_range=40,\n",
    "                                width_shift_range=.2,\n",
    "                                height_shift_range=.2,\n",
    "                                shear_range=.2,\n",
    "                                zoom_range=.2,\n",
    "                                fill_mode='nearest',\n",
    "                                horizontal_flip=True\n",
    "                                \n",
    "                                )\n",
    "\n",
    "train_generator=train_datagen.flow_from_directory(train_dir,\n",
    "                                                 target_size=(150,150),\n",
    "                                                 batch_size=10,\n",
    "                                                 class_mode='categorical')\n",
    "\n",
    "test_datagen=ImageDataGenerator(rescale=1.0/255,\n",
    "                               \n",
    "                                )\n",
    "\n",
    "test_generator=test_datagen.flow_from_directory(test_dir,\n",
    "                                               target_size=(150,150),\n",
    "                                               batch_size=10,\n",
    "                                               class_mode='categorical')\n"
   ]
  },
  {
   "cell_type": "code",
   "execution_count": 23,
   "metadata": {},
   "outputs": [],
   "source": [
    "class myCallback(tf.keras.callbacks.Callback):\n",
    "        def on_epoch_end(self,epoch,logs={}):\n",
    "            if logs.get('accuracy')>0.85:\n",
    "                print('Reached 85% accuracy so cancelling training!')\n",
    "                self.model.stop_training=True"
   ]
  },
  {
   "cell_type": "code",
   "execution_count": 38,
   "metadata": {},
   "outputs": [
    {
     "name": "stdout",
     "output_type": "stream",
     "text": [
      "Epoch 1/25\n",
      "50/50 [==============================] - 23s 467ms/step - loss: 0.9661 - accuracy: 0.5100 - val_loss: 0.8264 - val_accuracy: 0.7527\n",
      "Epoch 2/25\n",
      "50/50 [==============================] - 26s 524ms/step - loss: 0.9221 - accuracy: 0.5860 - val_loss: 0.5153 - val_accuracy: 0.8763\n",
      "Epoch 3/25\n",
      "50/50 [==============================] - 26s 522ms/step - loss: 0.8062 - accuracy: 0.6240 - val_loss: 0.4463 - val_accuracy: 0.8495\n",
      "Epoch 4/25\n",
      "50/50 [==============================] - 26s 516ms/step - loss: 0.6949 - accuracy: 0.6540 - val_loss: 0.4218 - val_accuracy: 0.9516\n",
      "Epoch 5/25\n",
      "50/50 [==============================] - 26s 526ms/step - loss: 0.6194 - accuracy: 0.7500 - val_loss: 0.2665 - val_accuracy: 0.9570\n",
      "Epoch 6/25\n",
      "50/50 [==============================] - 25s 508ms/step - loss: 0.5416 - accuracy: 0.7760 - val_loss: 0.2151 - val_accuracy: 0.9785\n",
      "Epoch 7/25\n",
      "50/50 [==============================] - 25s 509ms/step - loss: 0.5938 - accuracy: 0.7320 - val_loss: 0.2005 - val_accuracy: 1.0000\n",
      "Epoch 8/25\n",
      "50/50 [==============================] - 25s 493ms/step - loss: 0.5146 - accuracy: 0.7940 - val_loss: 0.2106 - val_accuracy: 0.9651\n",
      "Epoch 9/25\n",
      "50/50 [==============================] - 24s 472ms/step - loss: 0.4266 - accuracy: 0.8360 - val_loss: 0.2143 - val_accuracy: 0.9409\n",
      "Epoch 10/25\n",
      "50/50 [==============================] - ETA: 0s - loss: 0.3735 - accuracy: 0.8680Reached 85% accuracy so cancelling training!\n",
      "50/50 [==============================] - 23s 469ms/step - loss: 0.3735 - accuracy: 0.8680 - val_loss: 0.1700 - val_accuracy: 0.9113\n"
     ]
    }
   ],
   "source": [
    "callbacks=myCallback()\n",
    "history=model.fit(train_generator,\n",
    "                    steps_per_epoch=50,\n",
    "                  epochs=25,\n",
    "                  validation_data=test_generator,\n",
    "                  \n",
    "                  \n",
    "                  callbacks=[callbacks]\n",
    "                  )"
   ]
  },
  {
   "cell_type": "code",
   "execution_count": 39,
   "metadata": {},
   "outputs": [
    {
     "data": {
      "image/png": "[encoded data removed]",
      "text/plain": [
       "<Figure size 432x288 with 1 Axes>"
      ]
     },
     "metadata": {
      "needs_background": "light"
     },
     "output_type": "display_data"
    },
    {
     "data": {
      "image/png": "[encoded data removed]",
      "text/plain": [
       "<Figure size 432x288 with 1 Axes>"
      ]
     },
     "metadata": {
      "needs_background": "light"
     },
     "output_type": "display_data"
    }
   ],
   "source": [
    "import matplotlib.pyplot as plt\n",
    "acc = history.history['accuracy']\n",
    "val_acc = history.history['val_accuracy']\n",
    "loss = history.history['loss']\n",
    "val_loss = history.history['val_loss']\n",
    "\n",
    "epochs = range(len(acc))\n",
    "\n",
    "plt.plot(epochs, acc, 'bo', label='Training accuracy')\n",
    "plt.plot(epochs, val_acc, 'b', label='Validation accuracy')\n",
    "plt.title('Training and validation accuracy')\n",
    "\n",
    "plt.figure()\n",
    "\n",
    "plt.plot(epochs, loss, 'bo', label='Training Loss')\n",
    "\n",
    "plt.plot(epochs, val_loss, 'b', label='Validation Loss')\n",
    "plt.title('Training and validation loss')\n",
    "plt.legend()\n",
    "\n",
    "plt.show()"
   ]
  },
  {
   "cell_type": "code",
   "execution_count": 40,
   "metadata": {},
   "outputs": [],
   "source": [
    "path=r'C:\\Users\\shive\\OneDrive\\Desktop\\DAT'\n",
    "uploaded=os.path.join(path,'rps-validation')"
   ]
  },
  {
   "cell_type": "code",
   "execution_count": 45,
   "metadata": {},
   "outputs": [
    {
     "name": "stdout",
     "output_type": "stream",
     "text": [
      "['images1.jpg', 'images2.jpg', 'images3.jpg', 'paper-hires1.png', 'paper-hires2.png', 'paper1.png', 'paper2.png', 'paper3.png', 'paper4.png', 'paper5.png']\n"
     ]
    }
   ],
   "source": [
    "names=os.listdir(uploaded)\n",
    "print(names[:10])"
   ]
  },
  {
   "cell_type": "code",
   "execution_count": 46,
   "metadata": {},
   "outputs": [
    {
     "name": "stdout",
     "output_type": "stream",
     "text": [
      "images1 predicted as rock\n",
      "images2 predicted as rock\n",
      "images3 predicted as scissors\n",
      "paper-hires1 predicted as paper\n",
      "paper-hires2 predicted as paper\n",
      "paper1 predicted as rock\n",
      "paper2 predicted as paper\n",
      "paper3 predicted as scissors\n",
      "paper4 predicted as paper\n",
      "paper5 predicted as paper\n",
      "paper6 predicted as paper\n",
      "paper7 predicted as paper\n",
      "paper8 predicted as paper\n",
      "paper9 predicted as scissors\n",
      "rock-hires1 predicted as rock\n",
      "rock-hires2 predicted as rock\n",
      "rock1 predicted as rock\n",
      "rock2 predicted as rock\n",
      "rock3 predicted as rock\n",
      "rock4 predicted as rock\n",
      "rock5 predicted as scissors\n",
      "rock6 predicted as scissors\n",
      "rock7 predicted as rock\n",
      "rock8 predicted as rock\n",
      "rock9 predicted as rock\n",
      "scissors-hires1 predicted as scissors\n",
      "scissors-hires2 predicted as scissors\n",
      "scissors1 predicted as scissors\n",
      "scissors2 predicted as scissors\n",
      "scissors3 predicted as scissors\n",
      "scissors4 predicted as scissors\n",
      "scissors5 predicted as scissors\n",
      "scissors6 predicted as scissors\n",
      "scissors7 predicted as scissors\n",
      "scissors8 predicted as scissors\n",
      "scissors9 predicted as scissors\n"
     ]
    }
   ],
   "source": [
    "from tensorflow.keras.preprocessing import image\n",
    "import numpy as np\n",
    "\n",
    "\n",
    "for name in names:\n",
    "    str=r'C:\\Users\\shive\\OneDrive\\Desktop\\DAT\\rps-validation'\n",
    "    str=str+'\\\\'+name\n",
    "\n",
    "\n",
    "\n",
    "\n",
    "\n",
    "    img=image.load_img(str,target_size=(150, 150))\n",
    "    x = image.img_to_array(img)\n",
    "    x = np.expand_dims(x, axis=0)\n",
    "    images = np.vstack([x])\n",
    "    classes = model.predict(images, batch_size=10)\n",
    "    print(name[:-4],end=' predicted as ')\n",
    "    i=np.argmax(classes)\n",
    "    if i ==0:\n",
    "        print('paper')\n",
    "    elif i==1:\n",
    "        print('rock')\n",
    "    else:\n",
    "        print('scissors')"
   ]
  },
  {
   "cell_type": "code",
   "execution_count": 177,
   "metadata": {},
   "outputs": [],
   "source": [
    "path=r'C:\\Users\\shive\\OneDrive\\Desktop\\DAT'\n",
    "uploaded=os.path.join(path,'rps-validation')"
   ]
  },
  {
   "cell_type": "code",
   "execution_count": 145,
   "metadata": {},
   "outputs": [
    {
     "data": {
      "text/plain": [
       "['paper-hires1.png',\n",
       " 'paper-hires2.png',\n",
       " 'paper1.png',\n",
       " 'paper2.png',\n",
       " 'paper3.png',\n",
       " 'paper4.png',\n",
       " 'paper5.png',\n",
       " 'paper6.png',\n",
       " 'paper7.png',\n",
       " 'paper8.png',\n",
       " 'paper9.png',\n",
       " 'rock-hires1.png',\n",
       " 'rock-hires2.png',\n",
       " 'rock1.png',\n",
       " 'rock2.png',\n",
       " 'rock3.png',\n",
       " 'rock4.png',\n",
       " 'rock5.png',\n",
       " 'rock6.png',\n",
       " 'rock7.png',\n",
       " 'rock8.png',\n",
       " 'rock9.png',\n",
       " 'scissors-hires1.png',\n",
       " 'scissors-hires2.png',\n",
       " 'scissors1.png',\n",
       " 'scissors2.png',\n",
       " 'scissors3.png',\n",
       " 'scissors4.png',\n",
       " 'scissors5.png',\n",
       " 'scissors6.png',\n",
       " 'scissors7.png',\n",
       " 'scissors8.png',\n",
       " 'scissors9.png']"
      ]
     },
     "execution_count": 145,
     "metadata": {},
     "output_type": "execute_result"
    }
   ],
   "source": [
    "os.listdir(uploaded)"
   ]
  },
  {
   "cell_type": "code",
   "execution_count": null,
   "metadata": {},
   "outputs": [],
   "source": []
  }
 ],
 "metadata": {
  "kernelspec": {
   "display_name": "Python 3",
   "language": "python",
   "name": "python3"
  },
  "language_info": {
   "codemirror_mode": {
    "name": "ipython",
    "version": 3
   },
   "file_extension": ".py",
   "mimetype": "text/x-python",
   "name": "python",
   "nbconvert_exporter": "python",
   "pygments_lexer": "ipython3",
   "version": "3.7.6"
  }
 },
 "nbformat": 4,
 "nbformat_minor": 4
}
