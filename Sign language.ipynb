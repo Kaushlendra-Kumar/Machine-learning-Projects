{
 "cells": [
  {
   "cell_type": "code",
   "execution_count": 13,
   "metadata": {},
   "outputs": [],
   "source": [
    "import tensorflow as tf\n",
    "import pandas as pd\n",
    "import numpy as np"
   ]
  },
  {
   "cell_type": "code",
   "execution_count": 14,
   "metadata": {},
   "outputs": [],
   "source": [
    "import csv\n",
    "def file_names(df):\n",
    "    with open(df) as training_file:\n",
    "        reader = csv.reader(training_file, delimiter=',')    \n",
    "        next(reader,None)\n",
    "        images=[]\n",
    "        labels=[]\n",
    "        for rows in reader:\n",
    "            lbl=rows[0]\n",
    "            pixels=rows[1:]\n",
    "            pixels=np.array(pixels).reshape((28,28))\n",
    "            \n",
    "            images.append(pixels)\n",
    "            labels.append(lbl)\n",
    "    images=np.array(images).astype(float)\n",
    "    labels=np.array(labels).astype(float)\n",
    "    return images,labels\n",
    "            \n",
    "           \n",
    "        \n"
   ]
  },
  {
   "cell_type": "code",
   "execution_count": 15,
   "metadata": {},
   "outputs": [
    {
     "name": "stdout",
     "output_type": "stream",
     "text": [
      "(7172, 28, 28, 1)\n"
     ]
    }
   ],
   "source": [
    "training_images,training_labels=file_names(r'C:\\Users\\shive\\OneDrive\\Desktop\\Sign Language data\\sign_mnist_train.csv')\n",
    "test_images,test_labels=file_names(r'C:\\Users\\shive\\OneDrive\\Desktop\\Sign Language data\\sign_mnist_test.csv')\n",
    "training_images=np.expand_dims(training_images, axis=3)\n",
    "test_images = np.expand_dims(test_images, axis=3)\n",
    "print(test_images.shape)"
   ]
  },
  {
   "cell_type": "code",
   "execution_count": 19,
   "metadata": {},
   "outputs": [
    {
     "name": "stdout",
     "output_type": "stream",
     "text": [
      "Model: \"sequential_2\"\n",
      "_________________________________________________________________\n",
      "Layer (type)                 Output Shape              Param #   \n",
      "=================================================================\n",
      "conv2d_4 (Conv2D)            (None, 26, 26, 16)        160       \n",
      "_________________________________________________________________\n",
      "max_pooling2d_4 (MaxPooling2 (None, 13, 13, 16)        0         \n",
      "_________________________________________________________________\n",
      "conv2d_5 (Conv2D)            (None, 11, 11, 32)        4640      \n",
      "_________________________________________________________________\n",
      "max_pooling2d_5 (MaxPooling2 (None, 5, 5, 32)          0         \n",
      "_________________________________________________________________\n",
      "flatten_2 (Flatten)          (None, 800)               0         \n",
      "_________________________________________________________________\n",
      "dense_4 (Dense)              (None, 512)               410112    \n",
      "_________________________________________________________________\n",
      "dense_5 (Dense)              (None, 26)                13338     \n",
      "=================================================================\n",
      "Total params: 428,250\n",
      "Trainable params: 428,250\n",
      "Non-trainable params: 0\n",
      "_________________________________________________________________\n"
     ]
    }
   ],
   "source": [
    "model=tf.keras.models.Sequential([\n",
    "    tf.keras.layers.Conv2D(16,(3,3),activation='relu',input_shape=(28,28,1)),\n",
    "    tf.keras.layers.MaxPooling2D(2,2),\n",
    "    \n",
    "    tf.keras.layers.Conv2D(32,(3,3),activation='relu'),\n",
    "    tf.keras.layers.MaxPooling2D(2,2),\n",
    "    \n",
    "    \n",
    "    \n",
    "    tf.keras.layers.Flatten(),\n",
    "    tf.keras.layers.Dense(512,activation='relu'),\n",
    "    tf.keras.layers.Dense(26,activation='softmax')\n",
    "])\n",
    "model.summary()"
   ]
  },
  {
   "cell_type": "code",
   "execution_count": 20,
   "metadata": {},
   "outputs": [],
   "source": [
    "\n",
    "model.compile(loss='sparse_categorical_crossentropy',optimizer='adam',metrics=['accuracy'])"
   ]
  },
  {
   "cell_type": "code",
   "execution_count": 21,
   "metadata": {},
   "outputs": [],
   "source": [
    "from tensorflow.keras.preprocessing.image import ImageDataGenerator\n",
    "\n",
    "train_datagen = ImageDataGenerator(\n",
    "    rescale=1. / 255,\n",
    "    rotation_range=40,\n",
    "    width_shift_range=0.2,\n",
    "    height_shift_range=0.2,\n",
    "    shear_range=0.2,\n",
    "    zoom_range=0.2,\n",
    "    horizontal_flip=True,\n",
    "    fill_mode='nearest'\n",
    "    \n",
    "    )\n",
    "\n",
    "test_datagen = ImageDataGenerator(\n",
    "    rescale=1 / 255\n",
    "    )\n",
    "training_generator=train_datagen.flow(training_images,\n",
    "                  training_labels,\n",
    "                  batch_size=64)\n",
    "test_generator=test_datagen.flow(test_images,\n",
    "                                test_labels,\n",
    "                                batch_size=64)"
   ]
  },
  {
   "cell_type": "code",
   "execution_count": 22,
   "metadata": {},
   "outputs": [],
   "source": [
    "class myCallback(tf.keras.callbacks.Callback):\n",
    "    def on_epoch_end(self,epoch,logs={}):\n",
    "        if logs.get('accuracy')>.85:\n",
    "            print('reached 85% acc')\n",
    "            self.model.stop_training=True"
   ]
  },
  {
   "cell_type": "code",
   "execution_count": 24,
   "metadata": {},
   "outputs": [
    {
     "name": "stdout",
     "output_type": "stream",
     "text": [
      "WARNING:tensorflow:From <ipython-input-24-8352374891a1>:7: Model.fit_generator (from tensorflow.python.keras.engine.training) is deprecated and will be removed in a future version.\n",
      "Instructions for updating:\n",
      "Please use Model.fit, which supports generators.\n",
      "Epoch 1/25\n",
      "429/429 [==============================] - 16s 38ms/step - loss: 2.7850 - accuracy: 0.1575 - val_loss: 2.2708 - val_accuracy: 0.2407\n",
      "Epoch 2/25\n",
      "429/429 [==============================] - 17s 39ms/step - loss: 2.1309 - accuracy: 0.3312 - val_loss: 1.5840 - val_accuracy: 0.4466\n",
      "Epoch 3/25\n",
      "429/429 [==============================] - 16s 38ms/step - loss: 1.7849 - accuracy: 0.4341 - val_loss: 1.3020 - val_accuracy: 0.5512\n",
      "Epoch 4/25\n",
      "429/429 [==============================] - 16s 37ms/step - loss: 1.5322 - accuracy: 0.5096 - val_loss: 0.9653 - val_accuracy: 0.6544\n",
      "Epoch 5/25\n",
      "429/429 [==============================] - 16s 37ms/step - loss: 1.3455 - accuracy: 0.5655 - val_loss: 0.9583 - val_accuracy: 0.6832\n",
      "Epoch 6/25\n",
      "429/429 [==============================] - 16s 38ms/step - loss: 1.2044 - accuracy: 0.6091 - val_loss: 0.6880 - val_accuracy: 0.7704\n",
      "Epoch 7/25\n",
      "429/429 [==============================] - 17s 39ms/step - loss: 1.0945 - accuracy: 0.6407 - val_loss: 0.6439 - val_accuracy: 0.7755\n",
      "Epoch 8/25\n",
      "429/429 [==============================] - 17s 41ms/step - loss: 0.9916 - accuracy: 0.6763 - val_loss: 0.5075 - val_accuracy: 0.8196\n",
      "Epoch 9/25\n",
      "429/429 [==============================] - 16s 38ms/step - loss: 0.9034 - accuracy: 0.7047 - val_loss: 0.6157 - val_accuracy: 0.7757\n",
      "Epoch 10/25\n",
      "429/429 [==============================] - 16s 37ms/step - loss: 0.8325 - accuracy: 0.7288 - val_loss: 0.5341 - val_accuracy: 0.7863\n",
      "Epoch 11/25\n",
      "429/429 [==============================] - 17s 41ms/step - loss: 0.7718 - accuracy: 0.7437 - val_loss: 0.4172 - val_accuracy: 0.8568\n",
      "Epoch 12/25\n",
      "429/429 [==============================] - 18s 42ms/step - loss: 0.7228 - accuracy: 0.7618 - val_loss: 0.3846 - val_accuracy: 0.8469\n",
      "Epoch 13/25\n",
      "429/429 [==============================] - 16s 38ms/step - loss: 0.6718 - accuracy: 0.7789 - val_loss: 0.3498 - val_accuracy: 0.8631\n",
      "Epoch 14/25\n",
      "429/429 [==============================] - 17s 40ms/step - loss: 0.6417 - accuracy: 0.7865 - val_loss: 0.3895 - val_accuracy: 0.8504\n",
      "Epoch 15/25\n",
      "429/429 [==============================] - 16s 38ms/step - loss: 0.6067 - accuracy: 0.8004 - val_loss: 0.2656 - val_accuracy: 0.8965\n",
      "Epoch 16/25\n",
      "429/429 [==============================] - 16s 38ms/step - loss: 0.5723 - accuracy: 0.8084 - val_loss: 0.3699 - val_accuracy: 0.8737\n",
      "Epoch 17/25\n",
      "429/429 [==============================] - 18s 42ms/step - loss: 0.5346 - accuracy: 0.8254 - val_loss: 0.3023 - val_accuracy: 0.8816\n",
      "Epoch 18/25\n",
      "429/429 [==============================] - 16s 38ms/step - loss: 0.4990 - accuracy: 0.8347 - val_loss: 0.2111 - val_accuracy: 0.9247\n",
      "Epoch 19/25\n",
      "429/429 [==============================] - 18s 43ms/step - loss: 0.5018 - accuracy: 0.8334 - val_loss: 0.2505 - val_accuracy: 0.9151\n",
      "Epoch 20/25\n",
      "429/429 [==============================] - 17s 39ms/step - loss: 0.4722 - accuracy: 0.8418 - val_loss: 0.1970 - val_accuracy: 0.9261\n",
      "Epoch 21/25\n",
      "429/429 [==============================] - 17s 40ms/step - loss: 0.4591 - accuracy: 0.8478 - val_loss: 0.2290 - val_accuracy: 0.9023\n",
      "Epoch 22/25\n",
      "429/429 [==============================] - ETA: 0s - loss: 0.4453 - accuracy: 0.8518reached 85% acc\n",
      "429/429 [==============================] - 18s 42ms/step - loss: 0.4453 - accuracy: 0.8518 - val_loss: 0.2563 - val_accuracy: 0.9166\n"
     ]
    }
   ],
   "source": [
    "callbacks=myCallback()\n",
    "history = model.fit_generator(training_generator,\n",
    "    \n",
    "    epochs=25,\n",
    "    \n",
    "    validation_data=test_generator,\n",
    "    callbacks=[callbacks]\n",
    "                            \n",
    "                             )"
   ]
  },
  {
   "cell_type": "code",
   "execution_count": 25,
   "metadata": {},
   "outputs": [
    {
     "data": {
      "image/png": "[encoded data removed]",
      "text/plain": [
       "<Figure size 432x288 with 1 Axes>"
      ]
     },
     "metadata": {
      "needs_background": "light"
     },
     "output_type": "display_data"
    },
    {
     "data": {
      "image/png": "[encoded data removed]",
      "text/plain": [
       "<Figure size 432x288 with 1 Axes>"
      ]
     },
     "metadata": {
      "needs_background": "light"
     },
     "output_type": "display_data"
    }
   ],
   "source": [
    "import matplotlib.pyplot as plt\n",
    "acc = history.history['accuracy']\n",
    "val_acc = history.history['val_accuracy']\n",
    "loss = history.history['loss']\n",
    "val_loss = history.history['val_loss']\n",
    "\n",
    "epochs = range(len(acc))\n",
    "\n",
    "plt.plot(epochs, acc, 'bo', label='Training accuracy')\n",
    "plt.plot(epochs, val_acc, 'b', label='Validation accuracy')\n",
    "plt.title('Training and validation accuracy')\n",
    "\n",
    "plt.figure()\n",
    "\n",
    "plt.plot(epochs, loss, 'bo', label='Training Loss')\n",
    "\n",
    "plt.plot(epochs, val_loss, 'b', label='Validation Loss')\n",
    "plt.title('Training and validation loss')\n",
    "plt.legend()\n",
    "\n",
    "plt.show()"
   ]
  },
  {
   "cell_type": "code",
   "execution_count": 61,
   "metadata": {},
   "outputs": [
    {
     "data": {
      "text/plain": [
       "['a.png', 'B.jpg', 'X.jpg']"
      ]
     },
     "execution_count": 61,
     "metadata": {},
     "output_type": "execute_result"
    }
   ],
   "source": [
    "import os\n",
    "path=r'C:\\Users\\shive\\OneDrive\\Desktop\\Sign Language data\\validation_data'\n",
    "uploaded=os.path.join(path)\n",
    "os.listdir(uploaded)"
   ]
  },
  {
   "cell_type": "code",
   "execution_count": 62,
   "metadata": {},
   "outputs": [
    {
     "name": "stdout",
     "output_type": "stream",
     "text": [
      "a.png  is predicted as  A\n",
      "B.jpg  is predicted as  I\n",
      "X.jpg  is predicted as  X\n"
     ]
    }
   ],
   "source": [
    "from tensorflow.keras.preprocessing import image\n",
    "import numpy as np\n",
    "\n",
    "\n",
    "\n",
    "for names in os.listdir(uploaded):\n",
    "    str=r'C:\\Users\\shive\\OneDrive\\Desktop\\Sign Language data\\validation_data'\n",
    "    str=str+'\\\\'+names\n",
    "    \n",
    "    \n",
    "    img=image.load_img(str,target_size=(28, 28),color_mode='grayscale')\n",
    "    x = image.img_to_array(img)\n",
    "    x = np.expand_dims(x, axis=0)\n",
    "    images = np.vstack([x])\n",
    "    classes = model.predict(images, batch_size=10)\n",
    "    i=np.argmax(classes)\n",
    "    print(names,' is predicted as ', chr(65+i))"
   ]
  },
  {
   "cell_type": "code",
   "execution_count": null,
   "metadata": {},
   "outputs": [],
   "source": []
  }
 ],
 "metadata": {
  "kernelspec": {
   "display_name": "Python 3",
   "language": "python",
   "name": "python3"
  },
  "language_info": {
   "codemirror_mode": {
    "name": "ipython",
    "version": 3
   },
   "file_extension": ".py",
   "mimetype": "text/x-python",
   "name": "python",
   "nbconvert_exporter": "python",
   "pygments_lexer": "ipython3",
   "version": "3.7.6"
  }
 },
 "nbformat": 4,
 "nbformat_minor": 4
}
